{
 "cells": [
  {
   "cell_type": "markdown",
   "id": "6dec90d3-c002-4b16-8ff8-d71c8fd15ea2",
   "metadata": {},
   "source": [
    "### Imports"
   ]
  },
  {
   "cell_type": "code",
   "execution_count": 1,
   "id": "1ba0693e-2185-4275-bf8e-e55657cc056e",
   "metadata": {},
   "outputs": [],
   "source": [
    "# Utils\n",
    "from sklearn.model_selection import train_test_split\n",
    "from imgaug import augmenters as iaa\n",
    "import matplotlib.pyplot as plt\n",
    "import imgaug as ia\n",
    "import numpy as np\n",
    "import cv2\n",
    "import os"
   ]
  },
  {
   "cell_type": "markdown",
   "id": "e32a9fe4-cb9e-4638-ac04-9329c9cc532d",
   "metadata": {},
   "source": [
    "### Functions"
   ]
  },
  {
   "cell_type": "code",
   "execution_count": 2,
   "id": "e2427a2b-16d9-434d-9b91-648987fe1f6c",
   "metadata": {},
   "outputs": [],
   "source": [
    "def load_images_from_folder(folder, size = (256, 256), start = 0, end = 100000):\n",
    "    images = []\n",
    "    for filename in os.listdir(folder)[start:end]:\n",
    "        img = cv2.imread(os.path.join(folder,filename))\n",
    "        if img is not None:\n",
    "            img = cv2.resize(img, dsize = size)\n",
    "            img = cv2.cvtColor(img, cv2.COLOR_BGR2RGB)\n",
    "            images.append(img)\n",
    "    return np.array(images)"
   ]
  },
  {
   "cell_type": "code",
   "execution_count": 3,
   "id": "6ab1245c-bb41-40f3-8f32-0d8edb4379b7",
   "metadata": {},
   "outputs": [],
   "source": [
    "def save_images_in_folder(folder, images, size = (256, 256), start_index = 0):\n",
    "    for i, img in enumerate(images):\n",
    "        img = cv2.resize(img, dsize = size)\n",
    "        img = cv2.cvtColor(img, cv2.COLOR_RGB2BGR)\n",
    "        cv2.imwrite(os.path.join(folder, str(start_index + i) + '.png'), img)"
   ]
  },
  {
   "cell_type": "code",
   "execution_count": 4,
   "id": "41e3425b-9b8b-445a-a2c8-6512d41607d4",
   "metadata": {},
   "outputs": [],
   "source": [
    "def augment_images(folder, augmenter, images, size = (256, 256), start_index = 0, iterations = 10):\n",
    "    n = len(images)\n",
    "    for i in range(iterations):\n",
    "        augmented_images=augmenter(images=images)\n",
    "        save_images_in_folder(folder=folder, images=augmented_images, size=size, start_index = i*n)"
   ]
  },
  {
   "cell_type": "markdown",
   "id": "b253a7a2-5a7b-4fe9-ac74-5eb7f05be132",
   "metadata": {},
   "source": [
    "### Augmenting dataset"
   ]
  },
  {
   "cell_type": "code",
   "execution_count": 5,
   "id": "fef2ba30-2561-4818-8353-f50ac77796c9",
   "metadata": {},
   "outputs": [],
   "source": [
    "ia.seed(1)\n",
    "\n",
    "seq = iaa.Sequential([\n",
    "    iaa.Flipud(0.5), # vertical flips\n",
    "    iaa.Fliplr(0.5), # horizontal flips\n",
    "    iaa.Crop(percent=(0, 0.1)), # random crops\n",
    "    # Small gaussian blur with random sigma between 0 and 0.5.\n",
    "    # But we only blur about 50% of all images.\n",
    "    iaa.Sometimes(\n",
    "        0.5,\n",
    "        iaa.GaussianBlur(sigma=(0, 0.5))\n",
    "    ),\n",
    "    # Strengthen or weaken the contrast in each image.\n",
    "    iaa.Sometimes(\n",
    "        0.5,\n",
    "        iaa.LinearContrast((0.75, 1.5))\n",
    "    ),\n",
    "    # Add gaussian noise.\n",
    "    # For 50% of all images, we sample the noise once per pixel.\n",
    "    # For the other 50% of all images, we sample the noise per pixel AND\n",
    "    # channel. This can change the color (not only brightness) of the\n",
    "    # pixels.\n",
    "    iaa.AdditiveGaussianNoise(loc=0, scale=(0.0, 0.05*255)),\n",
    "    # Make some images brighter and some darker.\n",
    "    # In 20% of all cases, we sample the multiplier once per channel,\n",
    "    # which can end up changing the color of the images.\n",
    "    iaa.Add((-50, 50)),\n",
    "    iaa.Multiply((0.8, 1.2)),\n",
    "    iaa.Sometimes(\n",
    "        0.5,\n",
    "        iaa.JpegCompression(compression=(70, 80)) # JPEG-compressing the images\n",
    "    ),\n",
    "    # Apply affine transformations to each image.\n",
    "    # Scale/zoom them, translate/move them, rotate them and shear them.\n",
    "    iaa.Affine(\n",
    "        scale={\"x\": (0.8, 1.2), \"y\": (0.8, 1.2)},\n",
    "        translate_percent={\"x\": (-0.2, 0.2), \"y\": (-0.2, 0.2)},\n",
    "        rotate=(-25, 25),\n",
    "        shear=(-8, 8)\n",
    "    )], random_order=True) # apply augmenters in random order"
   ]
  },
  {
   "cell_type": "code",
   "execution_count": 6,
   "id": "a17b3ad8-f4b6-4727-8387-8446073b1b95",
   "metadata": {},
   "outputs": [],
   "source": [
    "dict_dir = {'organic': 'organic'}\n",
    "dict_iter = {'organic': 9}\n",
    "for key in dict_dir:\n",
    "    imgs = load_images_from_folder(os.path.join(r'D:/Lucru/github-folder/hacktm-2022/dataset/', str(key)))\n",
    "    augment_images(folder=os.path.join(r'D:/Lucru/github-folder/hacktm-2022/dataset-aug/', str(dict_dir[key])), augmenter=seq, images=imgs, iterations=dict_iter[key])"
   ]
  },
  {
   "cell_type": "code",
   "execution_count": null,
   "id": "acdc95af-5334-4102-8442-330d36b495a5",
   "metadata": {},
   "outputs": [],
   "source": []
  }
 ],
 "metadata": {
  "kernelspec": {
   "display_name": "Python 3 (ipykernel)",
   "language": "python",
   "name": "python3"
  },
  "language_info": {
   "codemirror_mode": {
    "name": "ipython",
    "version": 3
   },
   "file_extension": ".py",
   "mimetype": "text/x-python",
   "name": "python",
   "nbconvert_exporter": "python",
   "pygments_lexer": "ipython3",
   "version": "3.8.0"
  }
 },
 "nbformat": 4,
 "nbformat_minor": 5
}
